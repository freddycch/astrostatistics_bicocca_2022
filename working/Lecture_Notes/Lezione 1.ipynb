{
 "cells": [
  {
   "cell_type": "markdown",
   "metadata": {},
   "source": [
    "Astrostatistics: applicazione della statistica allo studio e all'analisi dei dati astronomici :D\n",
    "\n",
    "Data Mining: estrarre \"qualcosa\" dai dati\n",
    "Machine Learning: modern attitude w/data mining, come miglioro il mio data mining? ( usa statistica )\n",
    "\n",
    "PRACTICAL statistical inference and data analysis course.\n",
    "\n",
    "SUPERVISED vs UNSUPERVISED learning\n",
    "\n",
    "Sup: pre-labeled set of data, li usi per fare new prediction\n",
    "UnSup: ti dà dei dati, fai exploratory data analysis\n",
    "\n",
    "CLASSIFICATION vs REGRESSION ( = fitting )\n",
    "\n",
    "puoi combinare CLASSIFICATION e REGRESSION con SUPERVISED e UNSUPERVISED learning ( es. supervised classification; unsupervised regression // dimensional reduction: trova il SUBSET di dati che BEST describes the data )\n",
    "\n",
    "\n",
    "Useremo il pacchetto \"scikit learn\", vedi flowchart ^^\n",
    "\n",
    "### Programma del corso\n",
    "9 sezioni. Più lezione frontale all'inizio, poi diventa molto più pratico.\n",
    "\n",
    "### Orario del corso\n",
    "lun e mer 8:30 -> 10:30; DUE LEZIONI EXTRA, 8/mar e 15/mar; SALTA lezioni ad Aprile, finisce a fine maggio.\n",
    "\n",
    "C'è guideline per analizzare i dati, poi sei libero di fare quel che meglio credi. All'esame devi portare TUTTI i notebook dei dati da analizzare.\n",
    "\n",
    "### Bibliografia: \n",
    "\n",
    "    \"Statistics, Data Mining and Machine Learning in Astronomy\" - Zeljko Ivezic -> da prendere\n",
    "\n",
    "    \"Statistical Data Analysis\" - Cowan\n",
    "    \"Data Analysis, a Bayesian Tutorial\" - Sivia and Shilling\n",
    "    \"Bayesian Data Analysis\" - Gelman ( troppa roba, ma c'è tutto  )\n",
    "\n",
    "    \"Python Data Science Handbook\" - VanderPlas\n",
    "\n",
    "    Il MacKay è utile per capire cosa bbinchia fai in bayesian statistics\n",
    "    \n",
    "    Frega i pdf di Hogg prima che li tolga.\n",
    "    \n",
    "    \"Hands on Machine Learning with Scikit-Learn, Keras and TensorFlow\" - Geron ( prendilo con la mail unimib )\n",
    "    \n",
    "DEVI SAPERE PYTHON\n",
    "\n",
    "    \"Lectures on scientific computing with python\" - Johansson et al.\n",
    "    \"Python Programming for Scientists\" - Robitaille et al.\n",
    "    Un altro libro è nella lista"
   ]
  },
  {
   "cell_type": "markdown",
   "metadata": {},
   "source": [
    "### Version control with git\n",
    "\n",
    "Highly recommended. Github è cornerstone on code developement!\n",
    "\n",
    "git is a strategy to handle your files\n",
    "\n",
    "Also, ci sono i changelog.\n",
    "\n",
    "git is a TRANSFER PROTOCOL designed explicitely for code developement\n",
    "on top of git, ci sono i WEB FRONTENDS ( tipo un browser per l'http )\n",
    "\n",
    "Core element: la REPOSITORY.\n",
    "\n",
    "REMOTE repository - git clone -> LOCAL repository\n",
    "LOCAL repository - git push -> REMOTE repository\n",
    "\n",
    "PULL =/= CLONE\n",
    "ADD e COMMIT si usano per i developement \n",
    "\n",
    "CLONE, PUSH, PULL, ADD, COMMIT sono già sufficienti a fare un sacco di roba."
   ]
  },
  {
   "cell_type": "code",
   "execution_count": null,
   "metadata": {},
   "outputs": [],
   "source": []
  }
 ],
 "metadata": {
  "kernelspec": {
   "display_name": "Python 3",
   "language": "python",
   "name": "python3"
  },
  "language_info": {
   "codemirror_mode": {
    "name": "ipython",
    "version": 3
   },
   "file_extension": ".py",
   "mimetype": "text/x-python",
   "name": "python",
   "nbconvert_exporter": "python",
   "pygments_lexer": "ipython3",
   "version": "3.6.9"
  }
 },
 "nbformat": 4,
 "nbformat_minor": 4
}
