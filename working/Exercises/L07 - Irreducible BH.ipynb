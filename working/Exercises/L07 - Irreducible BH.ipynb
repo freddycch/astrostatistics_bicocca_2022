{
 "cells": [
  {
   "cell_type": "markdown",
   "metadata": {},
   "source": [
    "### Time to get your hands dirty! The irreducible mass of black holes.\n",
    "\n",
    "This is an example that comes straight out of my research in black-hole physics (and was first worked out by Cecilia Maria Fabbri in her BSc thesis).\n",
    "\n",
    "Consider a rotating black hole. In [1969](https://ui.adsabs.harvard.edu/abs/1969NCimR...1..252P/abstract), Roger Penrose (now [Nobel Prize in Physics](https://www.nobelprize.org/prizes/physics/2020/penrose/facts/) for the theory of black hole) discovered that one can extract energy from a rotating black hole:\n",
    "\n",
    "![](https://inspirehep.net/files/268d28446b405e134199d84f67c23792)\n",
    "\n",
    "(figure from [Harada, Kimura 2014](https://ui.adsabs.harvard.edu/abs/2014CQGra..31x3001H/abstract)).\n",
    "\n",
    "Maybe some of you has seen this already in your GR class? In any case, a rotating black-hole has a region called ergosphere such that infalling particles have negative energy. Penrose imagined a particle that enters that region and decays: half will fall in and half will escape to infinity, carring some energy with it. In a nutshell, we've extracted energy=mass from a black hole! It turns out that one also has to extract angular momentum, not just energy (and here you'll need some GR do to this calculation, see e.g. the famous textbook by [Misner, Thorne and Weeler](https://press.princeton.edu/books/hardcover/9780691177793/gravitation). But angular momentum runs our first, such that a repeated series of Penrose processes leaves behind a non-rotating BH with a remnant mass which is called \"irreducible\". This is a famous result by [Christodoulou 1970](https://journals.aps.org/prl/abstract/10.1103/PhysRevLett.25.1596)) and is closely related to the even more famous area law by [Hawking (1971)](https://journals.aps.org/prl/abstract/10.1103/PhysRevLett.26.1344) (which in turns is the foundation of black-hole thermodynamics).\n",
    "\n",
    "\n",
    "For a BH of mass $M$ spin $\\chi\\in [0,1]$, the irreducible mass is \n",
    "\\begin{equation}\n",
    "M_{\\rm irr} = %\\sqrt{\\frac{M^2+\\sqrt{M^4-S^2}}{2}} = \n",
    " M \\sqrt{\\frac{1+\\sqrt{1-\\chi^2}}{2}}\n",
    "\\label{mirrdef}\n",
    "\\end{equation}\n",
    "For convenience, let us define $f= M_{\\rm irr}/M$\n",
    "\n",
    "Suppose you have repeated measurment of $M$ and $\\chi$. This is just because we're still frequentists for now. When we put our Bayesian hat, these distributions will be the *posteriors* from a single measurement.\n",
    "\n",
    "Let's assume that\n",
    "\n",
    "- the spin $\\chi$ is uniformly distributed between 0 and 1.\n",
    "- the mass $M$ is normally distributed with mean $\\mu$ and standard deviation $\\sigma$.\n",
    "\n",
    "These are simplistic assumption that, however, are not too far from what we are now measuring with gravitational-wave detectors. It's a toy model, but not a totally unreasonable one.\n",
    "\n",
    "**Tasks**:\n",
    "\n",
    "1. Compute the pdf of $f$. *Hint*: we saw how to do this in a previous lecture. The answer is:\n",
    "\\begin{equation}\n",
    "\\pi(f) = 2\\frac{2 f^2-1}{\\sqrt{1 - f^2}}\\,.\n",
    "\\end{equation}\n",
    "\n",
    "2. Use [this theorem](https://en.wikipedia.org/wiki/Distribution_of_the_product_of_two_random_variables) to compute the pdf of $M_{\\rm irr}$. The answer is: \n",
    "\\begin{equation}\n",
    "p(M_{\\rm irr})  = \\frac{\\sqrt{2/\\pi}}{\\sigma} \\int_{1/\\sqrt{2}}^1 \\exp\\left[{-\\frac{(M_{\\rm irr}/f -\\mu)^2}{2\\sigma^2}}\\right]  \\frac{2 f^2-1}{f \\sqrt{1 - f^2}}  \\,\\, {\\rm d}f\\,. \\label{pmirr}\n",
    "\\end{equation}\n",
    " \n",
    "3. You can normalize all quantities with a dimension of mass by $\\mu$. Just set $\\mu=1$ in your code and remember that all masses are measured in units of $\\mu$.\n",
    "\n",
    "4. Sample $M_{\\rm irr}$ from its pdf. *Hint*: check the sampling methods we saw earlier in the course. *Even better hint*: you don't even need that! So easy! Think about it.\n",
    "\n",
    "5. Compute the KS distance between ${M_{\\rm irr}}$ and ${f}$ as a function of $\\sigma$. Discuss the limits at large and small values of $\\sigma$. \n",
    "\n",
    "6. Compute the KS distance between ${M_{\\rm irr}}$ and $M$ as a function of $\\sigma$. Discuss the limits at large and small values of $\\sigma$.\n",
    "\n",
    "7. You should find that\n",
    "\n",
    "\\begin{alignat}{10}\n",
    "p\\left(M_{\\rm irr}\\right)  &\\simeq \\frac{\\pi(M_{\\rm irr}/\\mu)}{\\mu} \\qquad&&{\\rm for}\\quad {\\sigma}\\ll \\mu\\,, \\label{limit1}\\\\\n",
    "p(M_{\\rm irr})  &\\simeq \\mathcal{N}(\\mu,\\sigma) \\qquad && {\\rm for}\\quad \\sigma\\gg \\mu \\,. \\label{limit2}\n",
    "\\end{alignat}\n",
    "\n",
    "### Time to get your hands dirty! The irreducible mass of black holes.\n",
    "\n",
    "Let's go back to our example from above. Using samples describing the irreducible mass of black holes, fit a KDE and check it against the analytic result (i.e. that integral in $df$).  Let's pick $\\sigma=0.02$"
   ]
  },
  {
   "cell_type": "code",
   "execution_count": null,
   "metadata": {},
   "outputs": [],
   "source": []
  }
 ],
 "metadata": {
  "kernelspec": {
   "display_name": "Python 3",
   "language": "python",
   "name": "python3"
  },
  "language_info": {
   "codemirror_mode": {
    "name": "ipython",
    "version": 3
   },
   "file_extension": ".py",
   "mimetype": "text/x-python",
   "name": "python",
   "nbconvert_exporter": "python",
   "pygments_lexer": "ipython3",
   "version": "3.6.9"
  }
 },
 "nbformat": 4,
 "nbformat_minor": 4
}
